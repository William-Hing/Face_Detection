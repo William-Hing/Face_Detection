{
 "cells": [
  {
   "cell_type": "code",
   "execution_count": 1,
   "metadata": {},
   "outputs": [],
   "source": [
    "# Importing pathlib.Path from Python’s standard library, along with face_recognition, a third-party library. \n",
    "from pathlib import Path\n",
    "import argparse\n",
    "import face_recognition\n",
    "import pickle\n",
    "from collections import Counter\n",
    "from PIL import Image, ImageDraw"
   ]
  },
  {
   "cell_type": "code",
   "execution_count": 2,
   "metadata": {},
   "outputs": [],
   "source": [
    "# Defining a constant for the default encoding path. \n",
    "DEFAULT_ENCODINGS_PATH = Path(\"output/encodings.pkl\")\n",
    "BOUNDING_BOX_COLOR = 'blue'\n",
    "TEXT_COLOUR = 'white'"
   ]
  },
  {
   "cell_type": "code",
   "execution_count": 3,
   "metadata": {},
   "outputs": [],
   "source": [
    "# Three calls to .mldir which set exist_ok to True.\n",
    "Path('training').mkdir(exist_ok  = True)\n",
    "Path('output').mkdir(exist_ok = True)\n",
    "Path('validation').mkdir(exist_ok = True)"
   ]
  },
  {
   "cell_type": "code",
   "execution_count": 4,
   "metadata": {},
   "outputs": [],
   "source": [
    "import sys\n",
    "sys.argv=['']\n",
    "del sys"
   ]
  },
  {
   "cell_type": "code",
   "execution_count": 5,
   "metadata": {},
   "outputs": [],
   "source": [
    "parser = argparse.ArgumentParser(description=\"Recognize faces in an image\")\n",
    "parser.add_argument(\"--train\", action=\"store_true\", help=\"Train on input data\")\n",
    "parser.add_argument(\n",
    "    \"--validate\", action=\"store_true\", help=\"Validate trained model\"\n",
    ")\n",
    "parser.add_argument(\n",
    "    \"--test\", action=\"store_true\", help=\"Test the model with an unknown image\"\n",
    ")\n",
    "parser.add_argument(\n",
    "    \"-m\",\n",
    "    action=\"store\",\n",
    "    default=\"hog\",\n",
    "    choices=[\"hog\", \"cnn\"],\n",
    "    help=\"Which model to use for training: hog (CPU), cnn (GPU)\",\n",
    ")\n",
    "parser.add_argument(\n",
    "    \"-f\", action=\"store\", help=\"Path to an image with an unknown face\"\n",
    ")\n",
    "args = parser.parse_args()"
   ]
  },
  {
   "cell_type": "code",
   "execution_count": 6,
   "metadata": {},
   "outputs": [],
   "source": [
    "# define encode_faces which uses a for loop to go through each directory in the training set and saves the label from each directory to name, \n",
    "# then uses the load_image_file function from face_recognition to load each image. \n",
    "def encode_faces(\n",
    "    model: str = 'hog', encodings_location: Path = DEFAULT_ENCODINGS_PATH\n",
    "    ) -> None: \n",
    "    names = []\n",
    "    encodings = []\n",
    "    for filepath in Path('training').glob('*/*'):\n",
    "        name = filepath.parent.name\n",
    "        image = face_recognition.load_image_file(filepath)\n",
    "        # uses face_recognition.face_locations() to detect the locations of faces in each image. This function returns a list of four element tuples, \n",
    "        # one for each detected face. The four elements per tuple provide the four coordinates of a box that surround the detected face (bounding box).\n",
    "        face_locations = face_recognition.face_locations(image, model=model)\n",
    "        # uses face_recognition.face_locations() to generate encodings for the detected faces in an image. encodings is a numeric representation of facial features\n",
    "        # thats used to match similar faces by their features. \n",
    "        face_encodings = face_recognition.face_encodings(image, face_locations)\n",
    "        for encoding in face_encodings: \n",
    "            # adds the names and their encodings to separate lists. \n",
    "            names.append(name)\n",
    "            encodings.append(encoding)\n",
    "    # creates a dictionary that puts the names and encodings list together and denotes which list is which. Pickle is then use to save the encodings to disk.\n",
    "    name_encodings = {'names': names, 'encodings': encodings}\n",
    "    with encodings_location.open(mode = 'wb') as f: \n",
    "        pickle.dump(name_encodings, f)\n",
    "#\n",
    "encode_faces()"
   ]
  },
  {
   "attachments": {},
   "cell_type": "markdown",
   "metadata": {},
   "source": [
    "### Recognizing unlabelled faces"
   ]
  },
  {
   "cell_type": "code",
   "execution_count": 7,
   "metadata": {},
   "outputs": [],
   "source": [
    "# recognize_faces function will be able to open and load the saved face encodings using pickle and then load the image with the faces to be recognized.\n",
    "def recognize_faces(\n",
    "    image_location: str, \n",
    "    model: str = 'hog', \n",
    "     encodings_location: Path = DEFAULT_ENCODINGS_PATH,\n",
    ") -> None:\n",
    "    with encodings_location.open(mode = 'rb') as f: \n",
    "        loaded_encodings = pickle.load(f)\n",
    "    input_image = face_recognition.load_image_file(image_location)\n",
    "    # these two lines allow the model to detect faces in the input image and their encodings. \n",
    "    input_face_locations = face_recognition.face_locations(\n",
    "        input_image, model=model\n",
    "    )\n",
    "    input_face_encodings = face_recognition.face_encodings(\n",
    "        input_image, input_face_locations\n",
    "    )\n",
    "    pillow_image = Image.fromarray(input_image)\n",
    "    draw = ImageDraw.Draw(pillow_image)\n",
    "    # this will iterate through input_face_locations and input_face_encodings in parallel using zip(). The function _recognize_face(), passes \n",
    "    # the encodings  for the unknown and loaded encodings. \n",
    "    for bounding_box, unknown_encoding in zip(\n",
    "        input_face_locations, input_face_encodings\n",
    "    ):\n",
    "        name = _recognize_face(unknown_encoding, loaded_encodings)\n",
    "        if not name: \n",
    "            # added conditional statement which assigns unknown to name if _recognize_face() doesnt find a match. \n",
    "            # the name is then printed and the coordinates of the identified faces are saved in bounding_box. \n",
    "            name = 'Unknown'\n",
    "        _display_face(draw, bounding_box, name)\n",
    "    del draw\n",
    "    pillow_image.show()"
   ]
  },
  {
   "cell_type": "code",
   "execution_count": 17,
   "metadata": {},
   "outputs": [],
   "source": [
    "def _recognize_face(unknown_encoding, loaded_encodings): \n",
    "    boolean_matches = face_recognition.compare_faces(loaded_encodings['encodings'], unknown_encoding)\n",
    "    votes = Counter(\n",
    "        name\n",
    "        for match, name in zip(boolean_matches, loaded_encodings['names'])\n",
    "        if match\n",
    "    )\n",
    "    if votes:\n",
    "        return votes.most_common(1)[0][0]"
   ]
  },
  {
   "cell_type": "code",
   "execution_count": 29,
   "metadata": {},
   "outputs": [],
   "source": [
    "def _display_face(draw, bounding_box, name):\n",
    "    top, right, bottom, left = bounding_box\n",
    "    draw.rectangle(((left, top), (right, bottom)), outline=BOUNDING_BOX_COLOR)\n",
    "    text_width, text_height = draw.textsize(name)\n",
    "    text_left = left\n",
    "    text_bottom = bottom + text_height\n",
    "    draw.text((text_left, text_bottom), name, fill=TEXT_COLOUR)\n"
   ]
  },
  {
   "cell_type": "code",
   "execution_count": 30,
   "metadata": {},
   "outputs": [],
   "source": [
    "def validata(model: str = 'hog'):\n",
    "    for filepath in Path('validation').rglob('*'):\n",
    "        if filepath.is_file(): \n",
    "            recognize_faces(\n",
    "                image_location = str(filepath, absolute()), model = model\n",
    "            )"
   ]
  },
  {
   "cell_type": "code",
   "execution_count": 31,
   "metadata": {},
   "outputs": [],
   "source": [
    "if __name__ == \"__main__\":\n",
    "    if args.train:\n",
    "        encode_known_faces(model = args.m)\n",
    "    if args.validate: \n",
    "        validate(model = args.m)\n",
    "    if args.test: \n",
    "        recognize_faces(image_location = args.f, model = args.m)"
   ]
  },
  {
   "cell_type": "code",
   "execution_count": 32,
   "metadata": {},
   "outputs": [],
   "source": [
    "encode_faces(model = 'hog')"
   ]
  },
  {
   "cell_type": "code",
   "execution_count": 34,
   "metadata": {},
   "outputs": [],
   "source": [
    "def validata(model: str = 'hog'):\n",
    "    for filepath in Path('validation').rglob('*'):\n",
    "        if filepath.is_file(): \n",
    "            recognize_faces(\n",
    "                image_location=str(filepath.absolute()), model=model\n",
    "            )"
   ]
  },
  {
   "cell_type": "code",
   "execution_count": 35,
   "metadata": {},
   "outputs": [
    {
     "name": "stderr",
     "output_type": "stream",
     "text": [
      "C:\\Users\\whing\\AppData\\Local\\Temp\\ipykernel_5708\\2331765905.py:4: DeprecationWarning: textsize is deprecated and will be removed in Pillow 10 (2023-07-01). Use textbbox or textlength instead.\n",
      "  text_width, text_height = draw.textsize(name)\n",
      "C:\\Users\\whing\\AppData\\Local\\Temp\\ipykernel_5708\\2331765905.py:4: DeprecationWarning: textsize is deprecated and will be removed in Pillow 10 (2023-07-01). Use textbbox or textlength instead.\n",
      "  text_width, text_height = draw.textsize(name)\n",
      "C:\\Users\\whing\\AppData\\Local\\Temp\\ipykernel_5708\\2331765905.py:4: DeprecationWarning: textsize is deprecated and will be removed in Pillow 10 (2023-07-01). Use textbbox or textlength instead.\n",
      "  text_width, text_height = draw.textsize(name)\n",
      "C:\\Users\\whing\\AppData\\Local\\Temp\\ipykernel_5708\\2331765905.py:4: DeprecationWarning: textsize is deprecated and will be removed in Pillow 10 (2023-07-01). Use textbbox or textlength instead.\n",
      "  text_width, text_height = draw.textsize(name)\n",
      "C:\\Users\\whing\\AppData\\Local\\Temp\\ipykernel_5708\\2331765905.py:4: DeprecationWarning: textsize is deprecated and will be removed in Pillow 10 (2023-07-01). Use textbbox or textlength instead.\n",
      "  text_width, text_height = draw.textsize(name)\n",
      "C:\\Users\\whing\\AppData\\Local\\Temp\\ipykernel_5708\\2331765905.py:4: DeprecationWarning: textsize is deprecated and will be removed in Pillow 10 (2023-07-01). Use textbbox or textlength instead.\n",
      "  text_width, text_height = draw.textsize(name)\n",
      "C:\\Users\\whing\\AppData\\Local\\Temp\\ipykernel_5708\\2331765905.py:4: DeprecationWarning: textsize is deprecated and will be removed in Pillow 10 (2023-07-01). Use textbbox or textlength instead.\n",
      "  text_width, text_height = draw.textsize(name)\n",
      "C:\\Users\\whing\\AppData\\Local\\Temp\\ipykernel_5708\\2331765905.py:4: DeprecationWarning: textsize is deprecated and will be removed in Pillow 10 (2023-07-01). Use textbbox or textlength instead.\n",
      "  text_width, text_height = draw.textsize(name)\n",
      "C:\\Users\\whing\\AppData\\Local\\Temp\\ipykernel_5708\\2331765905.py:4: DeprecationWarning: textsize is deprecated and will be removed in Pillow 10 (2023-07-01). Use textbbox or textlength instead.\n",
      "  text_width, text_height = draw.textsize(name)\n",
      "C:\\Users\\whing\\AppData\\Local\\Temp\\ipykernel_5708\\2331765905.py:4: DeprecationWarning: textsize is deprecated and will be removed in Pillow 10 (2023-07-01). Use textbbox or textlength instead.\n",
      "  text_width, text_height = draw.textsize(name)\n",
      "C:\\Users\\whing\\AppData\\Local\\Temp\\ipykernel_5708\\2331765905.py:4: DeprecationWarning: textsize is deprecated and will be removed in Pillow 10 (2023-07-01). Use textbbox or textlength instead.\n",
      "  text_width, text_height = draw.textsize(name)\n",
      "C:\\Users\\whing\\AppData\\Local\\Temp\\ipykernel_5708\\2331765905.py:4: DeprecationWarning: textsize is deprecated and will be removed in Pillow 10 (2023-07-01). Use textbbox or textlength instead.\n",
      "  text_width, text_height = draw.textsize(name)\n",
      "C:\\Users\\whing\\AppData\\Local\\Temp\\ipykernel_5708\\2331765905.py:4: DeprecationWarning: textsize is deprecated and will be removed in Pillow 10 (2023-07-01). Use textbbox or textlength instead.\n",
      "  text_width, text_height = draw.textsize(name)\n",
      "C:\\Users\\whing\\AppData\\Local\\Temp\\ipykernel_5708\\2331765905.py:4: DeprecationWarning: textsize is deprecated and will be removed in Pillow 10 (2023-07-01). Use textbbox or textlength instead.\n",
      "  text_width, text_height = draw.textsize(name)\n",
      "C:\\Users\\whing\\AppData\\Local\\Temp\\ipykernel_5708\\2331765905.py:4: DeprecationWarning: textsize is deprecated and will be removed in Pillow 10 (2023-07-01). Use textbbox or textlength instead.\n",
      "  text_width, text_height = draw.textsize(name)\n",
      "C:\\Users\\whing\\AppData\\Local\\Temp\\ipykernel_5708\\2331765905.py:4: DeprecationWarning: textsize is deprecated and will be removed in Pillow 10 (2023-07-01). Use textbbox or textlength instead.\n",
      "  text_width, text_height = draw.textsize(name)\n",
      "C:\\Users\\whing\\AppData\\Local\\Temp\\ipykernel_5708\\2331765905.py:4: DeprecationWarning: textsize is deprecated and will be removed in Pillow 10 (2023-07-01). Use textbbox or textlength instead.\n",
      "  text_width, text_height = draw.textsize(name)\n",
      "C:\\Users\\whing\\AppData\\Local\\Temp\\ipykernel_5708\\2331765905.py:4: DeprecationWarning: textsize is deprecated and will be removed in Pillow 10 (2023-07-01). Use textbbox or textlength instead.\n",
      "  text_width, text_height = draw.textsize(name)\n",
      "C:\\Users\\whing\\AppData\\Local\\Temp\\ipykernel_5708\\2331765905.py:4: DeprecationWarning: textsize is deprecated and will be removed in Pillow 10 (2023-07-01). Use textbbox or textlength instead.\n",
      "  text_width, text_height = draw.textsize(name)\n",
      "C:\\Users\\whing\\AppData\\Local\\Temp\\ipykernel_5708\\2331765905.py:4: DeprecationWarning: textsize is deprecated and will be removed in Pillow 10 (2023-07-01). Use textbbox or textlength instead.\n",
      "  text_width, text_height = draw.textsize(name)\n",
      "C:\\Users\\whing\\AppData\\Local\\Temp\\ipykernel_5708\\2331765905.py:4: DeprecationWarning: textsize is deprecated and will be removed in Pillow 10 (2023-07-01). Use textbbox or textlength instead.\n",
      "  text_width, text_height = draw.textsize(name)\n",
      "C:\\Users\\whing\\AppData\\Local\\Temp\\ipykernel_5708\\2331765905.py:4: DeprecationWarning: textsize is deprecated and will be removed in Pillow 10 (2023-07-01). Use textbbox or textlength instead.\n",
      "  text_width, text_height = draw.textsize(name)\n",
      "C:\\Users\\whing\\AppData\\Local\\Temp\\ipykernel_5708\\2331765905.py:4: DeprecationWarning: textsize is deprecated and will be removed in Pillow 10 (2023-07-01). Use textbbox or textlength instead.\n",
      "  text_width, text_height = draw.textsize(name)\n",
      "C:\\Users\\whing\\AppData\\Local\\Temp\\ipykernel_5708\\2331765905.py:4: DeprecationWarning: textsize is deprecated and will be removed in Pillow 10 (2023-07-01). Use textbbox or textlength instead.\n",
      "  text_width, text_height = draw.textsize(name)\n",
      "C:\\Users\\whing\\AppData\\Local\\Temp\\ipykernel_5708\\2331765905.py:4: DeprecationWarning: textsize is deprecated and will be removed in Pillow 10 (2023-07-01). Use textbbox or textlength instead.\n",
      "  text_width, text_height = draw.textsize(name)\n",
      "C:\\Users\\whing\\AppData\\Local\\Temp\\ipykernel_5708\\2331765905.py:4: DeprecationWarning: textsize is deprecated and will be removed in Pillow 10 (2023-07-01). Use textbbox or textlength instead.\n",
      "  text_width, text_height = draw.textsize(name)\n",
      "C:\\Users\\whing\\AppData\\Local\\Temp\\ipykernel_5708\\2331765905.py:4: DeprecationWarning: textsize is deprecated and will be removed in Pillow 10 (2023-07-01). Use textbbox or textlength instead.\n",
      "  text_width, text_height = draw.textsize(name)\n",
      "C:\\Users\\whing\\AppData\\Local\\Temp\\ipykernel_5708\\2331765905.py:4: DeprecationWarning: textsize is deprecated and will be removed in Pillow 10 (2023-07-01). Use textbbox or textlength instead.\n",
      "  text_width, text_height = draw.textsize(name)\n",
      "C:\\Users\\whing\\AppData\\Local\\Temp\\ipykernel_5708\\2331765905.py:4: DeprecationWarning: textsize is deprecated and will be removed in Pillow 10 (2023-07-01). Use textbbox or textlength instead.\n",
      "  text_width, text_height = draw.textsize(name)\n",
      "C:\\Users\\whing\\AppData\\Local\\Temp\\ipykernel_5708\\2331765905.py:4: DeprecationWarning: textsize is deprecated and will be removed in Pillow 10 (2023-07-01). Use textbbox or textlength instead.\n",
      "  text_width, text_height = draw.textsize(name)\n",
      "C:\\Users\\whing\\AppData\\Local\\Temp\\ipykernel_5708\\2331765905.py:4: DeprecationWarning: textsize is deprecated and will be removed in Pillow 10 (2023-07-01). Use textbbox or textlength instead.\n",
      "  text_width, text_height = draw.textsize(name)\n",
      "C:\\Users\\whing\\AppData\\Local\\Temp\\ipykernel_5708\\2331765905.py:4: DeprecationWarning: textsize is deprecated and will be removed in Pillow 10 (2023-07-01). Use textbbox or textlength instead.\n",
      "  text_width, text_height = draw.textsize(name)\n",
      "C:\\Users\\whing\\AppData\\Local\\Temp\\ipykernel_5708\\2331765905.py:4: DeprecationWarning: textsize is deprecated and will be removed in Pillow 10 (2023-07-01). Use textbbox or textlength instead.\n",
      "  text_width, text_height = draw.textsize(name)\n",
      "C:\\Users\\whing\\AppData\\Local\\Temp\\ipykernel_5708\\2331765905.py:4: DeprecationWarning: textsize is deprecated and will be removed in Pillow 10 (2023-07-01). Use textbbox or textlength instead.\n",
      "  text_width, text_height = draw.textsize(name)\n"
     ]
    }
   ],
   "source": [
    "validata(model='hog')\n"
   ]
  },
  {
   "cell_type": "code",
   "execution_count": null,
   "metadata": {},
   "outputs": [],
   "source": []
  }
 ],
 "metadata": {
  "kernelspec": {
   "display_name": "Python 3",
   "language": "python",
   "name": "python3"
  },
  "language_info": {
   "codemirror_mode": {
    "name": "ipython",
    "version": 3
   },
   "file_extension": ".py",
   "mimetype": "text/x-python",
   "name": "python",
   "nbconvert_exporter": "python",
   "pygments_lexer": "ipython3",
   "version": "3.10.7"
  },
  "orig_nbformat": 4
 },
 "nbformat": 4,
 "nbformat_minor": 2
}
